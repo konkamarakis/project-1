{
 "cells": [
  {
   "cell_type": "code",
   "execution_count": null,
   "id": "be24a623-ae99-47fd-b688-55a52cd39120",
   "metadata": {},
   "outputs": [],
   "source": [
    "import pandas as pd"
   ]
  },
  {
   "cell_type": "code",
   "execution_count": null,
   "id": "0172a18a-fda7-4ce2-a6e7-265f6cdc64e4",
   "metadata": {},
   "outputs": [],
   "source": [
    "import pandas as pd\n",
    "import pandas as pd\n",
    "import matplotlib.pyplot as plt\n",
    "import seaborn as sns"
   ]
  },
  {
   "cell_type": "code",
   "execution_count": null,
   "id": "338cfbac-b551-4288-934e-6164576e5a52",
   "metadata": {},
   "outputs": [],
   "source": [
    "df=pd.read_csv('heart_2022_with_nans.csv')"
   ]
  },
  {
   "cell_type": "code",
   "execution_count": null,
   "id": "c727b3ec-dbdf-4563-894c-8a87429a18c4",
   "metadata": {},
   "outputs": [],
   "source": [
    "health_df=df.copy()"
   ]
  },
  {
   "cell_type": "code",
   "execution_count": null,
   "id": "1549286a-d171-4bb2-96dc-a36faf41ee59",
   "metadata": {},
   "outputs": [],
   "source": [
    "health_df.info()"
   ]
  },
  {
   "cell_type": "code",
   "execution_count": null,
   "id": "8cddf6ee-7d22-46ba-920d-edcd5b3d2215",
   "metadata": {},
   "outputs": [],
   "source": [
    "health_df['ECigaretteUsage'].unique()"
   ]
  },
  {
   "cell_type": "code",
   "execution_count": null,
   "id": "a3db29e0-e13b-47e3-afe7-ffb4f24080ea",
   "metadata": {},
   "outputs": [],
   "source": [
    "def cleaner(health_df):\n",
    "    \n",
    "    health_df = health_df.replace({'Yes': 1, 'No': 0})\n",
    "    return health_df\n",
    "\n",
    "\n",
    "health_df = cleaner(health_df)"
   ]
  },
  {
   "cell_type": "code",
   "execution_count": null,
   "id": "02d06cb7-16c2-4102-a70a-e9879cf898a3",
   "metadata": {},
   "outputs": [],
   "source": [
    "def smoker(status):\n",
    "    if status=='Never smoked':\n",
    "        status=0\n",
    "    elif status=='Former smoker':\n",
    "        status=1\n",
    "    elif status=='Current smoker - now smokes some days':\n",
    "        status=2\n",
    "    elif status=='Current smoker - now smokes every day':\n",
    "        status=3\n",
    "    else:\n",
    "        pass\n",
    "\n",
    "    return status\n",
    "health_df['SmokerStatus']=list(map(smoker, health_df['SmokerStatus']))"
   ]
  },
  {
   "cell_type": "code",
   "execution_count": null,
   "id": "0d03e177-3706-471f-bccd-d3108b9ed521",
   "metadata": {},
   "outputs": [],
   "source": [
    "corr_df=health_df.corr()\n",
    "corr_df"
   ]
  },
  {
   "cell_type": "code",
   "execution_count": null,
   "id": "dadeee24-e94a-40a3-84c8-6888e25d13a9",
   "metadata": {},
   "outputs": [],
   "source": [
    "health_df_nonull=health_df.dropna()\n",
    "health_df_nonull.info()"
   ]
  },
  {
   "cell_type": "code",
   "execution_count": null,
   "id": "a5f12f09-286e-4793-86b9-86e051c83614",
   "metadata": {},
   "outputs": [],
   "source": [
    "grouped2 = health_df_no.groupby(['Sex', 'AgeCategory'])[['HadHeartAttack', 'HadAngina', 'HadStroke', \n",
    "                                        'HadAsthma', 'HadSkinCancer', 'HadCOPD', \n",
    "                                        'HadDepressiveDisorder', 'HadKidneyDisease', \n",
    "                                        'HadArthritis', 'HadDiabetes']].sum()"
   ]
  },
  {
   "cell_type": "code",
   "execution_count": null,
   "id": "421e2a9a-f213-4bd8-8ca2-4accbbe63fd6",
   "metadata": {},
   "outputs": [],
   "source": []
  }
 ],
 "metadata": {
  "kernelspec": {
   "display_name": "Python 3 (ipykernel)",
   "language": "python",
   "name": "python3"
  },
  "language_info": {
   "codemirror_mode": {
    "name": "ipython",
    "version": 3
   },
   "file_extension": ".py",
   "mimetype": "text/x-python",
   "name": "python",
   "nbconvert_exporter": "python",
   "pygments_lexer": "ipython3",
   "version": "3.9.17"
  }
 },
 "nbformat": 4,
 "nbformat_minor": 5
}
